{
  "nbformat": 4,
  "nbformat_minor": 0,
  "metadata": {
    "colab": {
      "name": "Pass,break,continue.& Functionsipynb",
      "provenance": [],
      "collapsed_sections": [],
      "authorship_tag": "ABX9TyNUjp8sug13v/bc9Y2Zo7Iw",
      "include_colab_link": true
    },
    "kernelspec": {
      "name": "python3",
      "display_name": "Python 3"
    },
    "language_info": {
      "name": "python"
    }
  },
  "cells": [
    {
      "cell_type": "markdown",
      "metadata": {
        "id": "view-in-github",
        "colab_type": "text"
      },
      "source": [
        "<a href=\"https://colab.research.google.com/github/RohitTudayekar/Python/blob/main/Pass%2Cbreak%2Ccontinue_%26_Functionsipynb.ipynb\" target=\"_parent\"><img src=\"https://colab.research.google.com/assets/colab-badge.svg\" alt=\"Open In Colab\"/></a>"
      ]
    },
    {
      "cell_type": "code",
      "source": [
        "#statements"
      ],
      "metadata": {
        "id": "Q0V3kuNswquM"
      },
      "execution_count": null,
      "outputs": []
    },
    {
      "cell_type": "markdown",
      "source": [
        "PASS\n",
        "BREAK\n",
        "CONTINUE"
      ],
      "metadata": {
        "id": "IRDkzDQsPWNh"
      }
    },
    {
      "cell_type": "code",
      "source": [
        "#PASS "
      ],
      "metadata": {
        "id": "PUgYWlc2PaUI"
      },
      "execution_count": null,
      "outputs": []
    },
    {
      "cell_type": "code",
      "source": [
        "X=10\n",
        "Y=9\n",
        "if X>Y:\n",
        "  print('X is greater')\n",
        "else:\n",
        "  pass"
      ],
      "metadata": {
        "id": "tHa6-ayKwrHL",
        "colab": {
          "base_uri": "https://localhost:8080/"
        },
        "outputId": "f26bbde0-bf59-4afe-f16f-b43f5a8e64b4"
      },
      "execution_count": null,
      "outputs": [
        {
          "output_type": "stream",
          "name": "stdout",
          "text": [
            "X is greater\n"
          ]
        }
      ]
    },
    {
      "cell_type": "code",
      "source": [
        "#BREAK Forcebly Terminate the ongoing loop if the given condition is satisfied"
      ],
      "metadata": {
        "id": "DBRfbqJYP1tI"
      },
      "execution_count": null,
      "outputs": []
    },
    {
      "cell_type": "code",
      "source": [
        "fruits=['mango','banana','apple','apricot']\n",
        "for  i in fruits:\n",
        "    if i=='apple':\n",
        "      break\n",
        "    print(i)\n"
      ],
      "metadata": {
        "colab": {
          "base_uri": "https://localhost:8080/"
        },
        "id": "URFMINF3QOho",
        "outputId": "4e220be8-a7e9-481f-c13f-fdab30528e25"
      },
      "execution_count": null,
      "outputs": [
        {
          "output_type": "stream",
          "name": "stdout",
          "text": [
            "mango\n",
            "banana\n"
          ]
        }
      ]
    },
    {
      "cell_type": "code",
      "source": [
        "#CONTINUE-\"When the conditions satisfies we will skip the mentioned elements\""
      ],
      "metadata": {
        "id": "9Fux9ZkXRRzJ"
      },
      "execution_count": null,
      "outputs": []
    },
    {
      "cell_type": "code",
      "source": [
        "fruits=['mango','banana','apple','apricot','gaurva']\n",
        "for  i in fruits:\n",
        "    if i=='apple':\n",
        "      continue\n",
        "    print(i)\n"
      ],
      "metadata": {
        "colab": {
          "base_uri": "https://localhost:8080/"
        },
        "id": "hWMgHS7MRjVH",
        "outputId": "77d9cbb8-aeab-420a-cc32-7b3a126e2fde"
      },
      "execution_count": null,
      "outputs": [
        {
          "output_type": "stream",
          "name": "stdout",
          "text": [
            "mango\n",
            "banana\n",
            "apricot\n",
            "gaurva\n"
          ]
        }
      ]
    },
    {
      "cell_type": "markdown",
      "source": [
        "display all the numbers between 0-6 except 3 & 6"
      ],
      "metadata": {
        "id": "GRis6P9nR1y4"
      }
    },
    {
      "cell_type": "code",
      "source": [
        "for i in range (0,7):\n",
        "  if i == 3 or i == 6:\n",
        "      \n",
        "      continue\n",
        "    \n",
        "\n",
        "      print (i)"
      ],
      "metadata": {
        "id": "WPFADO_ZR-e4"
      },
      "execution_count": null,
      "outputs": []
    },
    {
      "cell_type": "markdown",
      "source": [
        "Functions define and call"
      ],
      "metadata": {
        "id": "1KrWrmn5TLrB"
      }
    },
    {
      "cell_type": "code",
      "source": [
        "#define\n",
        "def add(a,b):\n",
        "  c=a+b\n",
        "  print(c)"
      ],
      "metadata": {
        "id": "-ZATnahjTPoY"
      },
      "execution_count": null,
      "outputs": []
    },
    {
      "cell_type": "code",
      "source": [
        "#call\n",
        "add(25,45)"
      ],
      "metadata": {
        "colab": {
          "base_uri": "https://localhost:8080/"
        },
        "id": "QOR1EnV-TeI1",
        "outputId": "ac86e270-e289-48c3-f3e3-607e7309da3c"
      },
      "execution_count": null,
      "outputs": [
        {
          "output_type": "stream",
          "name": "stdout",
          "text": [
            "70\n"
          ]
        }
      ]
    },
    {
      "cell_type": "code",
      "source": [
        "add(90,-45)"
      ],
      "metadata": {
        "colab": {
          "base_uri": "https://localhost:8080/"
        },
        "id": "GcgrCTBVTjCL",
        "outputId": "95cbb14f-f510-4872-ed7f-8ac01d6743b2"
      },
      "execution_count": null,
      "outputs": [
        {
          "output_type": "stream",
          "name": "stdout",
          "text": [
            "45\n"
          ]
        }
      ]
    },
    {
      "cell_type": "code",
      "source": [
        "def compute(a,b):\n",
        "  c=a+b\n",
        "  d=a-b\n",
        "  e=a*b\n",
        "  f=a/b\n",
        "  print(c,d,e,f)"
      ],
      "metadata": {
        "id": "4cQNHU4SToGP"
      },
      "execution_count": null,
      "outputs": []
    },
    {
      "cell_type": "code",
      "source": [
        "compute(5,9)"
      ],
      "metadata": {
        "colab": {
          "base_uri": "https://localhost:8080/"
        },
        "id": "7YsiP4y7T-sJ",
        "outputId": "029cae86-9680-4c44-8a0a-fec1e9b578e9"
      },
      "execution_count": null,
      "outputs": [
        {
          "output_type": "stream",
          "name": "stdout",
          "text": [
            "14 -4 45 0.5555555555555556\n"
          ]
        }
      ]
    }
  ]
}