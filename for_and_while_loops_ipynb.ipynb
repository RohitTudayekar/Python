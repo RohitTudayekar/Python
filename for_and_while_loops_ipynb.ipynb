{
  "nbformat": 4,
  "nbformat_minor": 0,
  "metadata": {
    "colab": {
      "name": "for and while loops. ipynb",
      "provenance": [],
      "collapsed_sections": [],
      "authorship_tag": "ABX9TyMCLp1yQpMPVopyeVcOLkat",
      "include_colab_link": true
    },
    "kernelspec": {
      "name": "python3",
      "display_name": "Python 3"
    },
    "language_info": {
      "name": "python"
    }
  },
  "cells": [
    {
      "cell_type": "markdown",
      "metadata": {
        "id": "view-in-github",
        "colab_type": "text"
      },
      "source": [
        "<a href=\"https://colab.research.google.com/github/RohitTudayekar/Python/blob/main/for_and_while_loops_ipynb.ipynb\" target=\"_parent\"><img src=\"https://colab.research.google.com/assets/colab-badge.svg\" alt=\"Open In Colab\"/></a>"
      ]
    },
    {
      "cell_type": "markdown",
      "source": [
        "print 1 to 20"
      ],
      "metadata": {
        "id": "smMH6U_lpu1-"
      }
    },
    {
      "cell_type": "code",
      "source": [
        "a=1\n",
        "while a<=10:\n",
        "  print(a)\n",
        "  a=a+1"
      ],
      "metadata": {
        "colab": {
          "base_uri": "https://localhost:8080/"
        },
        "id": "LjZRsurop9aM",
        "outputId": "b7d3d187-68a1-4d60-f55d-689fce903efa"
      },
      "execution_count": null,
      "outputs": [
        {
          "output_type": "stream",
          "name": "stdout",
          "text": [
            "1\n",
            "2\n",
            "3\n",
            "4\n",
            "5\n",
            "6\n",
            "7\n",
            "8\n",
            "9\n",
            "10\n"
          ]
        }
      ]
    },
    {
      "cell_type": "code",
      "source": [
        "for i in range(11,21):\n",
        "  print(i)"
      ],
      "metadata": {
        "colab": {
          "base_uri": "https://localhost:8080/"
        },
        "id": "4IpCEw-yrJ0D",
        "outputId": "8b97a1bf-1c0f-4d9e-d2a0-c93b57867941"
      },
      "execution_count": null,
      "outputs": [
        {
          "output_type": "stream",
          "name": "stdout",
          "text": [
            "11\n",
            "12\n",
            "13\n",
            "14\n",
            "15\n",
            "16\n",
            "17\n",
            "18\n",
            "19\n",
            "20\n"
          ]
        }
      ]
    },
    {
      "cell_type": "markdown",
      "source": [
        "take a number as input from the users and print its multiplication table"
      ],
      "metadata": {
        "id": "7x3eBMemrh56"
      }
    },
    {
      "cell_type": "code",
      "source": [
        "n=int(input(\"enter a number \"))\n",
        "\n",
        "for i in range(1,11):\n",
        "  print(n*i)"
      ],
      "metadata": {
        "colab": {
          "base_uri": "https://localhost:8080/"
        },
        "id": "6vmaBu47rskF",
        "outputId": "8e9336d4-6cd0-4d27-cd10-cb9897270d26"
      },
      "execution_count": null,
      "outputs": [
        {
          "output_type": "stream",
          "name": "stdout",
          "text": [
            "enter a number 2\n",
            "2\n",
            "4\n",
            "6\n",
            "8\n",
            "10\n",
            "12\n",
            "14\n",
            "16\n",
            "18\n",
            "20\n"
          ]
        }
      ]
    },
    {
      "cell_type": "markdown",
      "source": [
        "take a list of numbers and display all the even numbers from the list"
      ],
      "metadata": {
        "id": "ITdQONAesmgN"
      }
    },
    {
      "cell_type": "code",
      "source": [
        "list=[5,4,8,6,45,14,24,23,6,7,14,16,18,17,19,20]\n",
        "\n",
        "for i in list:\n",
        "  if i%2==0:\n",
        "    print(i)\n",
        "\n",
        "  else:\n",
        "    pass"
      ],
      "metadata": {
        "colab": {
          "base_uri": "https://localhost:8080/"
        },
        "id": "-gBUWC_uvNVi",
        "outputId": "9e18fb1a-e3c7-4acd-e65e-e7427529d7fd"
      },
      "execution_count": null,
      "outputs": [
        {
          "output_type": "stream",
          "name": "stdout",
          "text": [
            "4\n",
            "8\n",
            "6\n",
            "14\n",
            "24\n",
            "6\n",
            "14\n",
            "16\n",
            "18\n",
            "20\n"
          ]
        }
      ]
    },
    {
      "cell_type": "markdown",
      "source": [
        "what if i want to display both even and odd numbers from my list at  a time?"
      ],
      "metadata": {
        "id": "lU15wEHYx1D8"
      }
    },
    {
      "cell_type": "code",
      "source": [
        "list=[5,4,8,6,45,14,24,23,6,7,14,16,18,17,19,20]\n",
        "even=[]\n",
        "odd=[]\n",
        "for i in list:\n",
        "  if i%2==0:\n",
        "    even.append(i)\n",
        "\n",
        "  else:\n",
        "    odd.append(i)\n",
        "print('even list',even)\n",
        "print('odd list',odd)"
      ],
      "metadata": {
        "colab": {
          "base_uri": "https://localhost:8080/"
        },
        "id": "fglqdzcNx-C6",
        "outputId": "158c0281-06e2-4f72-e5f1-34b6c9c33bab"
      },
      "execution_count": null,
      "outputs": [
        {
          "output_type": "stream",
          "name": "stdout",
          "text": [
            "even list [4, 8, 6, 14, 24, 6, 14, 16, 18, 20]\n",
            "odd list [5, 45, 23, 7, 17, 19]\n"
          ]
        }
      ]
    },
    {
      "cell_type": "markdown",
      "source": [
        "if i want to count even and odd numbers"
      ],
      "metadata": {
        "id": "1b-pTVjK3fKP"
      }
    },
    {
      "cell_type": "code",
      "source": [
        "list=[5,4,8,6,45,14,24,23,6,7,14,16,18,17,19,20]\n",
        "count_even=0\n",
        "count_odd=0\n",
        "\n",
        "for i in list:\n",
        "  \n",
        "  if i%2==0:\n",
        "    count_even+=1\n",
        "\n",
        "  else:\n",
        "    count_odd+=1\n",
        "print('number of even numbers in the list',count_even)\n",
        "print('number of odd numbers in the list',count_odd)"
      ],
      "metadata": {
        "colab": {
          "base_uri": "https://localhost:8080/"
        },
        "id": "21OKnH9sydvZ",
        "outputId": "b0cf747e-2541-4653-cab5-a3acd243bc10"
      },
      "execution_count": null,
      "outputs": [
        {
          "output_type": "stream",
          "name": "stdout",
          "text": [
            "number of even numbers in the list 10\n",
            "number of odd numbers in the list 6\n"
          ]
        }
      ]
    },
    {
      "cell_type": "markdown",
      "source": [
        "take a list of numbers and display squares of each numbers in your list"
      ],
      "metadata": {
        "id": "idyBGxnk39WP"
      }
    },
    {
      "cell_type": "code",
      "source": [
        "list=[5,4,8,6,45,14,24,23,6,7,14,16,18,17,19,20]\n",
        "\n",
        "square=[]\n",
        "\n",
        "for i in list:\n",
        "  square.append(i*i)\n",
        "\n",
        "print(square)"
      ],
      "metadata": {
        "colab": {
          "base_uri": "https://localhost:8080/"
        },
        "id": "ptUdFY744Rqu",
        "outputId": "f1af4fd2-f4e8-4d09-befc-f3a179deae84"
      },
      "execution_count": null,
      "outputs": [
        {
          "output_type": "stream",
          "name": "stdout",
          "text": [
            "[25, 16, 64, 36, 2025, 196, 576, 529, 36, 49, 196, 256, 324, 289, 361, 400]\n"
          ]
        }
      ]
    },
    {
      "cell_type": "markdown",
      "source": [
        "Write a program to print first 10 integers and their squares using while loop."
      ],
      "metadata": {
        "id": "WV_EVgFB7YJF"
      }
    },
    {
      "cell_type": "code",
      "source": [
        "list=[1,2,3,4,5,6,7,8,9,10]\n",
        "square=[]\n",
        "\n",
        "for i in list:\n",
        "  square.append(i*i)\n",
        "print(square)\n",
        " "
      ],
      "metadata": {
        "id": "Fzj8x5zB7Y49",
        "colab": {
          "base_uri": "https://localhost:8080/"
        },
        "outputId": "025f7280-1032-4fb8-d106-5ca80793b9a7"
      },
      "execution_count": null,
      "outputs": [
        {
          "output_type": "stream",
          "name": "stdout",
          "text": [
            "[1, 4, 9, 16, 25, 36, 49, 64, 81, 100]\n"
          ]
        }
      ]
    },
    {
      "cell_type": "markdown",
      "source": [
        "Write for loop statement to print the following series:\n",
        "10, 20, 30 … … 300"
      ],
      "metadata": {
        "id": "gyPjGP8M8GtO"
      }
    },
    {
      "cell_type": "code",
      "source": [
        "a=10\n",
        "while a<=300: \n",
        "  print(a)\n",
        "  a=a+10"
      ],
      "metadata": {
        "colab": {
          "base_uri": "https://localhost:8080/"
        },
        "id": "bbqM04dS_9bO",
        "outputId": "a92c0c90-d48b-4476-d49f-6f0d28aeb958"
      },
      "execution_count": null,
      "outputs": [
        {
          "output_type": "stream",
          "name": "stdout",
          "text": [
            "10\n",
            "20\n",
            "30\n",
            "40\n",
            "50\n",
            "60\n",
            "70\n",
            "80\n",
            "90\n",
            "100\n",
            "110\n",
            "120\n",
            "130\n",
            "140\n",
            "150\n",
            "160\n",
            "170\n",
            "180\n",
            "190\n",
            "200\n",
            "210\n",
            "220\n",
            "230\n",
            "240\n",
            "250\n",
            "260\n",
            "270\n",
            "280\n",
            "290\n",
            "300\n"
          ]
        }
      ]
    },
    {
      "cell_type": "markdown",
      "source": [
        "Write a program to display the number names of the digits of a number entered by user, for example if the number is 231 then output should be Two Three One"
      ],
      "metadata": {
        "id": "Y3R_PUXN_POT"
      }
    },
    {
      "cell_type": "code",
      "source": [
        "n=(input(\"enter a number \"))\n",
        "dict={\"0\":\"zero\",\"2\":\"two\",\"3\":\"three\",\"4\":\"four\",\"5\":\"five\",\"6\":\"six\",\"7\":\"seven\",\"8\":\"eight\",\"9\":\"nine\",\"10\":\"ten\",\"1\":\"One\"}\n",
        "\n",
        "for i in n:\n",
        "\n",
        "  print(dict[i],end=\" \")"
      ],
      "metadata": {
        "colab": {
          "base_uri": "https://localhost:8080/"
        },
        "id": "wUStnJe-6UtY",
        "outputId": "a9ba469c-96e8-40a5-ea84-5b32f13af9d1"
      },
      "execution_count": null,
      "outputs": [
        {
          "output_type": "stream",
          "name": "stdout",
          "text": [
            "enter a number 854796645\n",
            "eight five four seven nine six six four five "
          ]
        }
      ]
    },
    {
      "cell_type": "markdown",
      "source": [
        "Q1. Write a program to print the following using while loop\n",
        "a. First 10 Even numbers\n",
        "b. First 10 Odd numbers\n",
        "c. First 10 Natural numbers\n",
        "d. First 10 Whole numbers"
      ],
      "metadata": {
        "id": "p8ghvWaxww_u"
      }
    },
    {
      "cell_type": "code",
      "source": [
        "a=2\n",
        "while a<=20:\n",
        "  print(a)\n",
        "  a=a+2\n"
      ],
      "metadata": {
        "colab": {
          "base_uri": "https://localhost:8080/"
        },
        "id": "K11fSUms_J8g",
        "outputId": "dbb3531e-c631-4ab2-dd79-532cbf627c37"
      },
      "execution_count": null,
      "outputs": [
        {
          "output_type": "stream",
          "name": "stdout",
          "text": [
            "2\n",
            "4\n",
            "6\n",
            "8\n",
            "10\n",
            "12\n",
            "14\n",
            "16\n",
            "18\n",
            "20\n"
          ]
        }
      ]
    },
    {
      "cell_type": "code",
      "source": [
        "a=1\n",
        "while a<=20:\n",
        "  print(a)\n",
        "  a=a+2"
      ],
      "metadata": {
        "colab": {
          "base_uri": "https://localhost:8080/"
        },
        "id": "BAK6BDzx_jwh",
        "outputId": "c5bc85ea-4074-4d04-e471-736090a562d2"
      },
      "execution_count": null,
      "outputs": [
        {
          "output_type": "stream",
          "name": "stdout",
          "text": [
            "1\n",
            "3\n",
            "5\n",
            "7\n",
            "9\n",
            "11\n",
            "13\n",
            "15\n",
            "17\n",
            "19\n"
          ]
        }
      ]
    },
    {
      "cell_type": "code",
      "source": [
        "a=1\n",
        "while a<=10:\n",
        "  print(a)\n",
        "  a=a+1"
      ],
      "metadata": {
        "colab": {
          "base_uri": "https://localhost:8080/"
        },
        "id": "3ltS0Suv_uCh",
        "outputId": "5b4dfa92-64f7-4983-b817-8ff6168f6865"
      },
      "execution_count": null,
      "outputs": [
        {
          "output_type": "stream",
          "name": "stdout",
          "text": [
            "1\n",
            "2\n",
            "3\n",
            "4\n",
            "5\n",
            "6\n",
            "7\n",
            "8\n",
            "9\n",
            "10\n"
          ]
        }
      ]
    },
    {
      "cell_type": "code",
      "source": [
        "a=0\n",
        "while a<=10:\n",
        "  print(a)\n",
        "  a=a+1"
      ],
      "metadata": {
        "colab": {
          "base_uri": "https://localhost:8080/"
        },
        "id": "FEBy7dCL_4IG",
        "outputId": "cf462a2e-2672-4a81-8cad-3e2e5be58c45"
      },
      "execution_count": null,
      "outputs": [
        {
          "output_type": "stream",
          "name": "stdout",
          "text": [
            "0\n",
            "1\n",
            "2\n",
            "3\n",
            "4\n",
            "5\n",
            "6\n",
            "7\n",
            "8\n",
            "9\n",
            "10\n"
          ]
        }
      ]
    },
    {
      "cell_type": "markdown",
      "source": [
        "Write a program in Python to reverse a word."
      ],
      "metadata": {
        "id": "25uijbu3CHh1"
      }
    },
    {
      "cell_type": "markdown",
      "source": [
        "Write a program to print n natural number in descending order using a while loop."
      ],
      "metadata": {
        "id": "sItkMumVCqnP"
      }
    },
    {
      "cell_type": "code",
      "source": [
        "a=10\n",
        "while a>=1:\n",
        "  print(a)\n",
        "  a=a-1"
      ],
      "metadata": {
        "colab": {
          "base_uri": "https://localhost:8080/"
        },
        "id": "ytH4ALn-CrS3",
        "outputId": "c2c0bfc2-344e-44c1-ca00-c21699b1a5a9"
      },
      "execution_count": null,
      "outputs": [
        {
          "output_type": "stream",
          "name": "stdout",
          "text": [
            "10\n",
            "9\n",
            "8\n",
            "7\n",
            "6\n",
            "5\n",
            "4\n",
            "3\n",
            "2\n",
            "1\n"
          ]
        }
      ]
    },
    {
      "cell_type": "markdown",
      "source": [
        "Write a program to display the first 7 multiples of 7"
      ],
      "metadata": {
        "id": "qwjujKKDDCNl"
      }
    },
    {
      "cell_type": "code",
      "source": [
        "count=0\n",
        "for i in range(50):\n",
        "  if i%7==0:\n",
        "    print(i,end= \" \")\n",
        "    count=count+1\n",
        "   \n"
      ],
      "metadata": {
        "colab": {
          "base_uri": "https://localhost:8080/"
        },
        "id": "N_tMklyaDDDt",
        "outputId": "1f3f4e12-c768-4be3-ea1e-7d5f86ec956c"
      },
      "execution_count": null,
      "outputs": [
        {
          "output_type": "stream",
          "name": "stdout",
          "text": [
            "0 7 14 21 28 35 42 49 "
          ]
        }
      ]
    },
    {
      "cell_type": "markdown",
      "source": [
        "Write a program that appends the square of each number to a new list"
      ],
      "metadata": {
        "id": "wO62b121EUL2"
      }
    },
    {
      "cell_type": "code",
      "source": [
        "x=[2,3,4,5,6,7,8]\n",
        "square=[]\n",
        "for i in x:\n",
        "  square.append(i*i)\n",
        "print(square)"
      ],
      "metadata": {
        "colab": {
          "base_uri": "https://localhost:8080/"
        },
        "id": "1Im8JkzHEXQk",
        "outputId": "66cf4333-f0b1-4523-97cb-2da3ffb687b5"
      },
      "execution_count": null,
      "outputs": [
        {
          "output_type": "stream",
          "name": "stdout",
          "text": [
            "[4, 9, 16, 25, 36, 49, 64]\n"
          ]
        }
      ]
    }
  ]
}